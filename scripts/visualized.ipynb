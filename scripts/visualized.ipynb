{
 "cells": [
  {
   "cell_type": "code",
   "execution_count": null,
   "id": "c9b18442",
   "metadata": {},
   "outputs": [],
   "source": [
    "import os\n",
    "import sys\n",
    "import tempfile\n",
    "import pandas as pd\n",
    "import numpy as np\n",
    "import json \n",
    "import torch\n",
    "\n",
    "import matplotlib.pyplot as plt\n",
    "\n",
    "from datetime import datetime\n",
    "\n",
    "from numpy.random import default_rng\n",
    "\n",
    "import numpy as np\n",
    "from datasets import load_dataset\n",
    "\n",
    "# import packages from the project with sys\n",
    "sys.path.append(\"/workspace/meteolibre_model\")"
   ]
  },
  {
   "cell_type": "code",
   "execution_count": null,
   "id": "83b23d56",
   "metadata": {},
   "outputs": [],
   "source": [
    "\n",
    "\n",
    "# The command is exactly the same!\n",
    "# The library handles the sharded files behind the scenes.\n",
    "ds = load_dataset(\"meteolibre-dev/mtg_europe_64\", streaming=True)\n",
    "\n",
    "i = 0\n",
    "\n",
    "# You can iterate over it as if it were a single file\n",
    "for example in ds[\"train\"]:\n",
    "    i += 1\n",
    "    \n",
    "    # Get the byte string\n",
    "    patch_data = np.frombuffer(example[\"data\"], dtype=example[\"dtype\"]).reshape(example[\"shape\"])\n",
    "\n",
    "    # Now you can work with the array\n",
    "    print(patch_data.shape) (6, 12, 64, 64)\n",
    "    if i > 2:\n",
    "        break"
   ]
  },
  {
   "cell_type": "code",
   "execution_count": null,
   "id": "91bf6f46",
   "metadata": {},
   "outputs": [],
   "source": [
    "for i in range(patch_data.shape[0]):\n",
    "    # we plot the patch_data and the patch_data\n",
    "    plt.figure(figsize=(10, 5))\n",
    "    plt.imshow(patch_data[i, -3, :, :], cmap='gray')\n",
    "    plt.title('satellite')\n",
    "    plt.colorbar()"
   ]
  },
  {
   "cell_type": "code",
   "execution_count": null,
   "id": "6ae27f24",
   "metadata": {},
   "outputs": [],
   "source": []
  },
  {
   "cell_type": "code",
   "execution_count": null,
   "id": "6b093982",
   "metadata": {},
   "outputs": [],
   "source": []
  }
 ],
 "metadata": {
  "language_info": {
   "name": "python"
  }
 },
 "nbformat": 4,
 "nbformat_minor": 5
}
